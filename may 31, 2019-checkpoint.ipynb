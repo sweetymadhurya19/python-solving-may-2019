{
 "cells": [
  {
   "cell_type": "markdown",
   "metadata": {},
   "source": [
    "# JNTUA FDP - DAY  05\n",
    "#### DATE:31 MAY 2019\n",
    "#### DAY OBJECTIVES\n",
    "* TUPLES\n",
    "* DICTIONARIES\n",
    "* LINEAR AND BINARY SEARCH\n",
    "* DATE ARITHMETRIC\n",
    "* ITERATORS AND GENERATORS\n",
    "* FUNCTIONAL PROGRAMMING"
   ]
  },
  {
   "cell_type": "markdown",
   "metadata": {},
   "source": []
  },
  {
   "cell_type": "markdown",
   "metadata": {},
   "source": [
    "#### PYTHON TUPLES"
   ]
  },
  {
   "cell_type": "markdown",
   "metadata": {},
   "source": [
    "# TUPLES VALUES ARE FIXED DATA STRUCTURE WE CAN NOT CHANGE  we can just access the data."
   ]
  },
  {
   "cell_type": "code",
   "execution_count": 2,
   "metadata": {},
   "outputs": [],
   "source": [
    "t1 = (1001, 'name', 85, 72, 90)\n",
    "\n"
   ]
  },
  {
   "cell_type": "code",
   "execution_count": 3,
   "metadata": {},
   "outputs": [
    {
     "data": {
      "text/plain": [
       "(1001, 'name', 85, 72, 90)"
      ]
     },
     "execution_count": 3,
     "metadata": {},
     "output_type": "execute_result"
    }
   ],
   "source": [
    "t1"
   ]
  },
  {
   "cell_type": "code",
   "execution_count": 4,
   "metadata": {},
   "outputs": [
    {
     "ename": "AttributeError",
     "evalue": "'tuple' object has no attribute 'append'",
     "output_type": "error",
     "traceback": [
      "\u001b[1;31m---------------------------------------------------------------------------\u001b[0m",
      "\u001b[1;31mAttributeError\u001b[0m                            Traceback (most recent call last)",
      "\u001b[1;32m<ipython-input-4-06771028d6df>\u001b[0m in \u001b[0;36m<module>\u001b[1;34m\u001b[0m\n\u001b[1;32m----> 1\u001b[1;33m \u001b[0mt1\u001b[0m\u001b[1;33m.\u001b[0m\u001b[0mappend\u001b[0m\u001b[1;33m(\u001b[0m\u001b[1;36m85\u001b[0m\u001b[1;33m,\u001b[0m \u001b[1;36m65\u001b[0m\u001b[1;33m,\u001b[0m \u001b[1;36m70\u001b[0m\u001b[1;33m)\u001b[0m\u001b[1;33m\u001b[0m\u001b[1;33m\u001b[0m\u001b[0m\n\u001b[0m",
      "\u001b[1;31mAttributeError\u001b[0m: 'tuple' object has no attribute 'append'"
     ]
    }
   ],
   "source": [
    "t1.append(85, 65, 70)"
   ]
  },
  {
   "cell_type": "code",
   "execution_count": 5,
   "metadata": {},
   "outputs": [
    {
     "data": {
      "text/plain": [
       "1001"
      ]
     },
     "execution_count": 5,
     "metadata": {},
     "output_type": "execute_result"
    }
   ],
   "source": [
    "t1[0]"
   ]
  },
  {
   "cell_type": "code",
   "execution_count": 6,
   "metadata": {},
   "outputs": [
    {
     "data": {
      "text/plain": [
       "85"
      ]
     },
     "execution_count": 6,
     "metadata": {},
     "output_type": "execute_result"
    }
   ],
   "source": [
    "t1[2]"
   ]
  },
  {
   "cell_type": "code",
   "execution_count": 8,
   "metadata": {},
   "outputs": [
    {
     "data": {
      "text/plain": [
       "(85, 72, 90)"
      ]
     },
     "execution_count": 8,
     "metadata": {},
     "output_type": "execute_result"
    }
   ],
   "source": [
    "t1[2:]"
   ]
  },
  {
   "cell_type": "code",
   "execution_count": 10,
   "metadata": {},
   "outputs": [
    {
     "data": {
      "text/plain": [
       "('2', '5', '8')"
      ]
     },
     "execution_count": 10,
     "metadata": {},
     "output_type": "execute_result"
    }
   ],
   "source": [
    "t2 = (321, 654, 789098, 6453, 75456)\n",
    "# accessing all the second digits of elements in a tuples\n",
    "str(t2[0])[1], str(t2[1])[1], str(t2[2])[1]"
   ]
  },
  {
   "cell_type": "code",
   "execution_count": 13,
   "metadata": {},
   "outputs": [
    {
     "data": {
      "text/plain": [
       "174396.4"
      ]
     },
     "execution_count": 13,
     "metadata": {},
     "output_type": "execute_result"
    }
   ],
   "source": [
    "# function to calculate the average of all elements in a tuple\n",
    "def averagetuple(t):\n",
    "    sum = 0\n",
    "    for i in range (0, len(t)):\n",
    "        sum += t[i]\n",
    "    return sum/len(t)\n",
    "    \n",
    "    \n",
    "averagetuple(t2)"
   ]
  },
  {
   "cell_type": "code",
   "execution_count": 43,
   "metadata": {},
   "outputs": [
    {
     "data": {
      "text/plain": [
       "list"
      ]
     },
     "execution_count": 43,
     "metadata": {},
     "output_type": "execute_result"
    }
   ],
   "source": [
    "## function to calculate the average of all elements in a tuple\n",
    "def averageLinearDs(t):\n",
    "    sum = 0\n",
    "    #for i in range (0, len(t)):\n",
    "     #   sum += t[i]\n",
    "    for item in t:\n",
    "        sum += item\n",
    "    return sum/len(t)\n",
    "\n",
    "li = [123, 243, 456, 678, 890]\n",
    "\n",
    "averageLinearDs(li)\n",
    "type(li)"
   ]
  },
  {
   "cell_type": "code",
   "execution_count": 41,
   "metadata": {},
   "outputs": [
    {
     "data": {
      "text/plain": [
       "[-1]"
      ]
     },
     "execution_count": 41,
     "metadata": {},
     "output_type": "execute_result"
    }
   ],
   "source": [
    "# function to search in linear data structure\n",
    "\n",
    "def searchlineards(ds, key):\n",
    "    for item in range(0, len(ds)):\n",
    "        if ds[item] == key:\n",
    "            return item\n",
    "        return [-1]  \n",
    "    \n",
    "searchlineards(li, 456)"
   ]
  },
  {
   "cell_type": "markdown",
   "metadata": {},
   "source": [
    "#### iterable objects"
   ]
  },
  {
   "cell_type": "code",
   "execution_count": 30,
   "metadata": {},
   "outputs": [
    {
     "name": "stdout",
     "output_type": "stream",
     "text": [
      "p\n",
      "y\n",
      "t\n",
      "h\n",
      "o\n",
      "n\n"
     ]
    }
   ],
   "source": [
    "\n",
    "s = \"python\"\n",
    "for c in s:\n",
    "    print(c)"
   ]
  },
  {
   "cell_type": "code",
   "execution_count": 36,
   "metadata": {},
   "outputs": [
    {
     "data": {
      "text/plain": [
       "890"
      ]
     },
     "execution_count": 36,
     "metadata": {},
     "output_type": "execute_result"
    }
   ],
   "source": [
    "#function identify the maximum element in a data structure\n",
    "\n",
    "def maxelementsds(ds):\n",
    "    m=ds[0]\n",
    "    for item in ds:\n",
    "        if item > m:\n",
    "            m = item\n",
    "    return m\n",
    "\n",
    "maxelementsds(li)"
   ]
  },
  {
   "cell_type": "markdown",
   "metadata": {},
   "source": [
    "#### python dictionaries"
   ]
  },
  {
   "cell_type": "code",
   "execution_count": 37,
   "metadata": {},
   "outputs": [
    {
     "data": {
      "text/plain": [
       "3424515443414"
      ]
     },
     "execution_count": 37,
     "metadata": {},
     "output_type": "execute_result"
    }
   ],
   "source": [
    "d1 = {'name1': 1225356865, 'name2': 3424515443414}\n",
    "d1['name2']"
   ]
  },
  {
   "cell_type": "code",
   "execution_count": 38,
   "metadata": {},
   "outputs": [
    {
     "data": {
      "text/plain": [
       "dict_keys(['name1', 'name2'])"
      ]
     },
     "execution_count": 38,
     "metadata": {},
     "output_type": "execute_result"
    }
   ],
   "source": [
    "d1 = {'name1': 1225356865, 'name2': 3424515443414}\n",
    "d1['name2']\n",
    "\n",
    "d1.keys()"
   ]
  },
  {
   "cell_type": "code",
   "execution_count": 42,
   "metadata": {},
   "outputs": [
    {
     "name": "stdout",
     "output_type": "stream",
     "text": [
      "3424515443414\n"
     ]
    },
    {
     "data": {
      "text/plain": [
       "dict_values([1225356865, 3424515443414])"
      ]
     },
     "execution_count": 42,
     "metadata": {},
     "output_type": "execute_result"
    }
   ],
   "source": [
    "d1 = {'name1': 1225356865, 'name2': 3424515443414}\n",
    "print(d1['name2'])\n",
    "\n",
    "d1.keys() #all keys in a dictionary are unique\n",
    "d1.values()"
   ]
  },
  {
   "cell_type": "code",
   "execution_count": 44,
   "metadata": {},
   "outputs": [
    {
     "data": {
      "text/plain": [
       "{'name1': 1225356865, 'name2': 3424515443414, 'name3': 57859465727}"
      ]
     },
     "execution_count": 44,
     "metadata": {},
     "output_type": "execute_result"
    }
   ],
   "source": [
    "d1['name3'] = 57859465727\n",
    "d1"
   ]
  },
  {
   "cell_type": "code",
   "execution_count": 47,
   "metadata": {},
   "outputs": [
    {
     "data": {
      "text/plain": [
       "{'name2': 3424515443414}"
      ]
     },
     "execution_count": 47,
     "metadata": {},
     "output_type": "execute_result"
    }
   ],
   "source": [
    "d1.pop('name1')# remove a key and value\n",
    "d1"
   ]
  },
  {
   "cell_type": "code",
   "execution_count": 61,
   "metadata": {},
   "outputs": [],
   "source": [
    "#contact application\n",
    "#display,add,modfy and delete contacts\n",
    "\n",
    "contacts = {}\n",
    "\n",
    "def addcontacts(d, name, phone):\n",
    "    contacts[name] = phone\n",
    "    return\n",
    "\n",
    "def displaycontacts(contacts):\n",
    "    for name, phone in contacts.items():\n",
    "        print(name, \":\", phone)\n",
    "        return"
   ]
  },
  {
   "cell_type": "code",
   "execution_count": 62,
   "metadata": {},
   "outputs": [],
   "source": [
    "addcontacts(contacts, 'name', 76766986987)"
   ]
  },
  {
   "cell_type": "code",
   "execution_count": 63,
   "metadata": {},
   "outputs": [
    {
     "name": "stdout",
     "output_type": "stream",
     "text": [
      "name : 76766986987\n"
     ]
    }
   ],
   "source": [
    "displaycontacts(contacts)"
   ]
  },
  {
   "cell_type": "code",
   "execution_count": 64,
   "metadata": {},
   "outputs": [
    {
     "ename": "SyntaxError",
     "evalue": "invalid syntax (<ipython-input-64-46ed2d40a34a>, line 18)",
     "output_type": "error",
     "traceback": [
      "\u001b[1;36m  File \u001b[1;32m\"<ipython-input-64-46ed2d40a34a>\"\u001b[1;36m, line \u001b[1;32m18\u001b[0m\n\u001b[1;33m    def deletecontacts\u001b[0m\n\u001b[1;37m                      ^\u001b[0m\n\u001b[1;31mSyntaxError\u001b[0m\u001b[1;31m:\u001b[0m invalid syntax\n"
     ]
    }
   ],
   "source": [
    "#display,add,modfy and delete contacts\n",
    "\n",
    "contacts = {}\n",
    "\n",
    "def addcontacts(d, name, phone):\n",
    "    contacts[name] = phone\n",
    "    return\n",
    "\n",
    "def displaycontacts(contacts):\n",
    "    for name, phone in contacts.items():\n",
    "        print(name, \":\", phone)\n",
    "        return\n",
    "    \n",
    "def modifycontacts(contacts, name, newphone):\n",
    "    contacts[name] = newphone\n",
    "    return\n",
    "\n",
    "def deletecontacts(contacts)"
   ]
  },
  {
   "cell_type": "code",
   "execution_count": 69,
   "metadata": {},
   "outputs": [
    {
     "data": {
      "text/plain": [
       "[4, 3, 2, 1]"
      ]
     },
     "execution_count": 69,
     "metadata": {},
     "output_type": "execute_result"
    }
   ],
   "source": [
    "li2 = [1, 2, 3, 4]\n",
    "li3 = [3, 4, 5, 6, 7]\n",
    "li2 = list(reversed(li2))\n",
    "\n",
    "type(li2)\n",
    "\n",
    "li2"
   ]
  },
  {
   "cell_type": "code",
   "execution_count": 68,
   "metadata": {},
   "outputs": [
    {
     "name": "stdout",
     "output_type": "stream",
     "text": [
      "0 : 4\n",
      "1 : 3\n",
      "2 : 2\n",
      "3 : 1\n"
     ]
    }
   ],
   "source": [
    "enumerate(li2)\n",
    "for i, value in enumerate(li2):\n",
    "    print(i, ':', value)"
   ]
  },
  {
   "cell_type": "code",
   "execution_count": 70,
   "metadata": {},
   "outputs": [
    {
     "name": "stdout",
     "output_type": "stream",
     "text": [
      "4 3\n",
      "3 4\n",
      "2 5\n",
      "1 6\n"
     ]
    },
    {
     "data": {
      "text/plain": [
       "<zip at 0x1e633994e08>"
      ]
     },
     "execution_count": 70,
     "metadata": {},
     "output_type": "execute_result"
    }
   ],
   "source": [
    "li2\n",
    "li3\n",
    "\n",
    "for i, j in zip(li2,li3):\n",
    "    print(i, j)\n",
    "    \n",
    "zip(li2, li3)"
   ]
  },
  {
   "cell_type": "code",
   "execution_count": null,
   "metadata": {},
   "outputs": [],
   "source": [
    "li2\n",
    "li3\n",
    "\n",
    "for i, j in zip(li2,li3):\n",
    "    print(i, j)\n",
    "    \n",
    "zip(li2, li3)"
   ]
  },
  {
   "cell_type": "markdown",
   "metadata": {},
   "source": [
    "#### regular expressions"
   ]
  },
  {
   "cell_type": "code",
   "execution_count": null,
   "metadata": {},
   "outputs": [],
   "source": [
    "[0-9] RE for all digits\n",
    "[0, 1, 1,3......9]\n",
    "\n",
    "[a-z] RE for lower case alphabet\n",
    "[A-Z] RE for upper case alphabet\n",
    "\n",
    "[10]"
   ]
  },
  {
   "cell_type": "code",
   "execution_count": null,
   "metadata": {},
   "outputs": [],
   "source": [
    "# function to validate college student roll number\n",
    "\n",
    "# function to validate indian phone numbers starting 9,8,7,6 and\n",
    "\n",
    "#funtion to  validate email address\n",
    "    username@domain.extension\n",
    "    username = {string of length 9. can contain digits and alphabets}\n",
    "    username = {stringmof 9.can contain digits and alphabet}\n",
    "    username = {length of 3. only alphabet}"
   ]
  },
  {
   "cell_type": "code",
   "execution_count": 74,
   "metadata": {},
   "outputs": [],
   "source": [
    "import re\n",
    "def phonenumbervalidator(phone):\n",
    "    phone = str(phone)\n",
    "    pattern = '^[6-9][0-9]{9}$'\n",
    "    if re.match(pattern,phone):\n",
    "        return TRUE\n",
    "        return false\n",
    "    \n",
    "    \n",
    "phonenumbervalidator(62345667890)\n"
   ]
  },
  {
   "cell_type": "code",
   "execution_count": 75,
   "metadata": {},
   "outputs": [],
   "source": [
    "s1='Introduction to programming concepts with scratch, Scratch environment, sprites looks and motion, Angles and directions, repetition and variation, changing costumes, adding background, Input/Output,  variables and operators. Working with sounds and sprite communication and creating stories, App Generation.'"
   ]
  },
  {
   "cell_type": "code",
   "execution_count": 77,
   "metadata": {},
   "outputs": [
    {
     "data": {
      "text/plain": [
       "['Introduction to programming concepts with scratch',\n",
       " 'Scratch environment',\n",
       " 'sprites looks and motion',\n",
       " 'Angles and directions',\n",
       " 'repetition and variation',\n",
       " 'changing costumes',\n",
       " 'adding background',\n",
       " 'Input/Output',\n",
       " ' variables and operators. Working with sounds and sprite communication and creating stories',\n",
       " 'App Generation.']"
      ]
     },
     "execution_count": 77,
     "metadata": {},
     "output_type": "execute_result"
    }
   ],
   "source": [
    "syllabuslist = re.split('[,][\\ ]', s1)\n",
    "\n",
    "syllabuslist"
   ]
  },
  {
   "cell_type": "markdown",
   "metadata": {},
   "source": [
    "#### python date and time arthemetic"
   ]
  },
  {
   "cell_type": "code",
   "execution_count": 79,
   "metadata": {},
   "outputs": [
    {
     "data": {
      "text/plain": [
       "2019"
      ]
     },
     "execution_count": 79,
     "metadata": {},
     "output_type": "execute_result"
    }
   ],
   "source": [
    "import datetime\n",
    "\n",
    "datetime.datetime.now().year"
   ]
  },
  {
   "cell_type": "code",
   "execution_count": 80,
   "metadata": {},
   "outputs": [
    {
     "data": {
      "text/plain": [
       "31"
      ]
     },
     "execution_count": 80,
     "metadata": {},
     "output_type": "execute_result"
    }
   ],
   "source": [
    "import datetime\n",
    "\n",
    "now = datetime.datetime.now()\n",
    "now.day"
   ]
  },
  {
   "cell_type": "code",
   "execution_count": 81,
   "metadata": {},
   "outputs": [
    {
     "data": {
      "text/plain": [
       "14"
      ]
     },
     "execution_count": 81,
     "metadata": {},
     "output_type": "execute_result"
    }
   ],
   "source": [
    "import datetime\n",
    "\n",
    "now = datetime.datetime.now()\n",
    "now.second"
   ]
  },
  {
   "cell_type": "code",
   "execution_count": 82,
   "metadata": {},
   "outputs": [
    {
     "data": {
      "text/plain": [
       "5"
      ]
     },
     "execution_count": 82,
     "metadata": {},
     "output_type": "execute_result"
    }
   ],
   "source": [
    "import datetime\n",
    "\n",
    "now = datetime.datetime.now()\n",
    "now.month"
   ]
  },
  {
   "cell_type": "code",
   "execution_count": 83,
   "metadata": {},
   "outputs": [
    {
     "data": {
      "text/plain": [
       "8"
      ]
     },
     "execution_count": 83,
     "metadata": {},
     "output_type": "execute_result"
    }
   ],
   "source": [
    "import datetime\n",
    "\n",
    "now = datetime.datetime.now()\n",
    "now.minute"
   ]
  },
  {
   "cell_type": "code",
   "execution_count": 84,
   "metadata": {},
   "outputs": [
    {
     "data": {
      "text/plain": [
       "17"
      ]
     },
     "execution_count": 84,
     "metadata": {},
     "output_type": "execute_result"
    }
   ],
   "source": [
    "import datetime\n",
    "\n",
    "now = datetime.datetime.now()\n",
    "now.hour"
   ]
  },
  {
   "cell_type": "code",
   "execution_count": 85,
   "metadata": {},
   "outputs": [
    {
     "name": "stdout",
     "output_type": "stream",
     "text": [
      "17 9 39\n"
     ]
    }
   ],
   "source": [
    "import datetime\n",
    "\n",
    "now = datetime.datetime.now()\n",
    "print(now.hour, now.minute, now.second)"
   ]
  },
  {
   "cell_type": "code",
   "execution_count": 86,
   "metadata": {},
   "outputs": [
    {
     "name": "stdout",
     "output_type": "stream",
     "text": [
      "17 10 2\n",
      "2019-05-31 17:10:02.874780\n"
     ]
    }
   ],
   "source": [
    "import datetime\n",
    "\n",
    "now = datetime.datetime.now()\n",
    "print(now.hour, now.minute, now.second)\n",
    "\n",
    "print(now)"
   ]
  },
  {
   "cell_type": "code",
   "execution_count": 94,
   "metadata": {},
   "outputs": [
    {
     "name": "stdout",
     "output_type": "stream",
     "text": [
      "737209 days, 0:00:00\n"
     ]
    }
   ],
   "source": [
    "#function to find the difference between two given names\n",
    "#yyyy:mm:dd is the date format as a string\n",
    "import datetime\n",
    "def datedifference(date1, date2):\n",
    "    year1 = int(date1[:4])\n",
    "    month1 = int(date1[5:7])\n",
    "    day1 = int(date1[8:])\n",
    "    year2 = int(date2[:4])\n",
    "    month2 = int(date2[5:7])\n",
    "    day2 = int(date2[8:])\n",
    "    d1 = datetime.date(year1, month1, day1)\n",
    "    d2 = datetime.date(year2, month2, day2)\n",
    "    return d2 - d1\n",
    "    \n",
    "print(datedifference('0001:01:01', '2019:05:31'))\n"
   ]
  },
  {
   "cell_type": "code",
   "execution_count": 95,
   "metadata": {},
   "outputs": [
    {
     "data": {
      "text/plain": [
       "False"
      ]
     },
     "execution_count": 95,
     "metadata": {},
     "output_type": "execute_result"
    }
   ],
   "source": [
    "import calendar\n",
    "\n",
    "calendar.isleap(2019)"
   ]
  },
  {
   "cell_type": "code",
   "execution_count": 96,
   "metadata": {},
   "outputs": [
    {
     "data": {
      "text/plain": [
       "True"
      ]
     },
     "execution_count": 96,
     "metadata": {},
     "output_type": "execute_result"
    }
   ],
   "source": [
    "import calendar\n",
    "\n",
    "calendar.isleap(2016)"
   ]
  },
  {
   "cell_type": "code",
   "execution_count": null,
   "metadata": {},
   "outputs": [],
   "source": [
    "# 2020 - true\n",
    "# 1900 - false\n",
    "# 1600 - true\n",
    "# 2008 - true\n",
    "# 400 - true\n",
    "# 600 - false\n",
    "#\n",
    "def isleap(year):\n",
    "    if (year % 4== 0 and year %100 != 0) or year % 4\n",
    "    return TruE\n",
    "\n",
    "\n"
   ]
  },
  {
   "cell_type": "markdown",
   "metadata": {},
   "source": [
    "## LIST COMPREHENSIONS"
   ]
  },
  {
   "cell_type": "code",
   "execution_count": 97,
   "metadata": {},
   "outputs": [
    {
     "data": {
      "text/plain": [
       "21"
      ]
     },
     "execution_count": 97,
     "metadata": {},
     "output_type": "execute_result"
    }
   ],
   "source": [
    "\n",
    "\n",
    "li = [1,2,3,4,5,6]\n",
    "\n",
    "sum(li)"
   ]
  },
  {
   "cell_type": "code",
   "execution_count": 98,
   "metadata": {},
   "outputs": [
    {
     "data": {
      "text/plain": [
       "7503"
      ]
     },
     "execution_count": 98,
     "metadata": {},
     "output_type": "execute_result"
    }
   ],
   "source": [
    "\n",
    "\n",
    "\n",
    "li = [1,2,3,4,5,6]\n",
    "n = 123\n",
    "sum(range(123))\n",
    "\n"
   ]
  },
  {
   "cell_type": "code",
   "execution_count": 99,
   "metadata": {},
   "outputs": [
    {
     "data": {
      "text/plain": [
       "[0, 1, 2, 3, 4, 5, 6, 7, 8]"
      ]
     },
     "execution_count": 99,
     "metadata": {},
     "output_type": "execute_result"
    }
   ],
   "source": [
    "\n",
    "\n",
    "li = [1,2,3,4,5,6]\n",
    "\n",
    "n = 123\n",
    "sum(range(123))\n",
    "list(range(9))\n",
    "\n"
   ]
  },
  {
   "cell_type": "code",
   "execution_count": 100,
   "metadata": {},
   "outputs": [
    {
     "data": {
      "text/plain": [
       "36"
      ]
     },
     "execution_count": 100,
     "metadata": {},
     "output_type": "execute_result"
    }
   ],
   "source": [
    "\n",
    "\n",
    "li = [1,2,3,4,5,6]\n",
    "\n",
    "n = 123\n",
    "sum(range(123))\n",
    "sum(list(range(9)))\n",
    "\n",
    "\n",
    "\n"
   ]
  },
  {
   "cell_type": "code",
   "execution_count": 101,
   "metadata": {},
   "outputs": [
    {
     "data": {
      "text/plain": [
       "45"
      ]
     },
     "execution_count": 101,
     "metadata": {},
     "output_type": "execute_result"
    }
   ],
   "source": [
    "\n",
    "\n",
    "li = [1,2,3,4,5,6]\n",
    "\n",
    "n = 123\n",
    "sum(range(123))\n",
    "sum(list(range(9+1))) # sum of n natural numbers\n"
   ]
  },
  {
   "cell_type": "code",
   "execution_count": 109,
   "metadata": {},
   "outputs": [
    {
     "data": {
      "text/plain": [
       "[1.0,\n",
       " 1.4142135623730951,\n",
       " 1.7320508075688772,\n",
       " 2.0,\n",
       " 2.23606797749979,\n",
       " 2.449489742783178,\n",
       " 2.6457513110645907,\n",
       " 2.8284271247461903,\n",
       " 3.0,\n",
       " 3.1622776601683795]"
      ]
     },
     "execution_count": 109,
     "metadata": {},
     "output_type": "execute_result"
    }
   ],
   "source": [
    "# calculate sum of squareroot of n natural numbers\n",
    "\n",
    "from math import sqrt\n",
    "def sqrtNNaturalNumbers(n):\n",
    "    return [sqrt(i) for i in list(range(1, n+1))]\n",
    "sqrtNNaturalNumbers(10)\n",
    "    "
   ]
  },
  {
   "cell_type": "code",
   "execution_count": 108,
   "metadata": {},
   "outputs": [
    {
     "data": {
      "text/plain": [
       "[1, 4, 9, 16, 25, 36]"
      ]
     },
     "execution_count": 108,
     "metadata": {},
     "output_type": "execute_result"
    }
   ],
   "source": [
    "\n",
    "\n",
    "from math import sqrt\n",
    "def sumsqrtNNaturalNumbers(n):\n",
    "    return sum([sqrt(i)for i in list(range(1, n+1))])\n",
    "sqrtNNaturalNumbers(10)\n",
    "    \n",
    "def squarelistelements(li):\n",
    "    return [i ** 2 for i in li]\n",
    "\n",
    "squarelistelements(li)"
   ]
  },
  {
   "cell_type": "code",
   "execution_count": 110,
   "metadata": {},
   "outputs": [
    {
     "data": {
      "text/plain": [
       "[9, 18, 27, 36, 45]"
      ]
     },
     "execution_count": 110,
     "metadata": {},
     "output_type": "execute_result"
    }
   ],
   "source": [
    "#define a function using list comprehension to\n",
    "#identify all numbers divisible by 9 in a list\n",
    "\n",
    "li = list(range(1,50))\n",
    "\n",
    "def divisible9lc(li):\n",
    "    return[i for i in li if i % 9 ==0]\n",
    "divisible9lc(li)"
   ]
  },
  {
   "cell_type": "code",
   "execution_count": 113,
   "metadata": {},
   "outputs": [
    {
     "data": {
      "text/plain": [
       "[1980, 1984, 1988, 1992, 1996, 2000, 2004, 2008, 2012, 2016]"
      ]
     },
     "execution_count": 113,
     "metadata": {},
     "output_type": "execute_result"
    }
   ],
   "source": [
    "\n",
    "\n",
    "li = list(range(1979,2019))\n",
    "\n",
    "def divisible9lc(li):\n",
    "    return[i for i in li if( i % 4 ==0 and i% 100 != 0)or i % 400 == 0]\n",
    "divisible9lc(li)"
   ]
  },
  {
   "cell_type": "code",
   "execution_count": null,
   "metadata": {},
   "outputs": [],
   "source": []
  },
  {
   "cell_type": "markdown",
   "metadata": {},
   "source": [
    "#### Maps\n",
    "\n",
    "#### functions and iterators are passed as parameter to map\n"
   ]
  },
  {
   "cell_type": "code",
   "execution_count": 115,
   "metadata": {},
   "outputs": [
    {
     "data": {
      "text/plain": [
       "[1, 8, 27, 64, 125, 216]"
      ]
     },
     "execution_count": 115,
     "metadata": {},
     "output_type": "execute_result"
    }
   ],
   "source": [
    "\n",
    "# function to calculate cubes of  all numbers in a list\n",
    "\n",
    "li = [1,2,3,4,5,6]\n",
    "def cube(n):\n",
    "    return n ** 3\n",
    "\n",
    "\n",
    "list(map(cube, li))\n"
   ]
  },
  {
   "cell_type": "code",
   "execution_count": 116,
   "metadata": {},
   "outputs": [
    {
     "data": {
      "text/plain": [
       "6"
      ]
     },
     "execution_count": 116,
     "metadata": {},
     "output_type": "execute_result"
    }
   ],
   "source": [
    "\n",
    "# function to calculate cubes of  all numbers in a list\n",
    "\n",
    "\n",
    "li = [1,2,3,4,5,6]\n",
    "def cube(n):\n",
    "    return n ** 3\n",
    "\n",
    "\n",
    "len(list(map(cube, li)))\n"
   ]
  },
  {
   "cell_type": "code",
   "execution_count": 117,
   "metadata": {},
   "outputs": [
    {
     "data": {
      "text/plain": [
       "441"
      ]
     },
     "execution_count": 117,
     "metadata": {},
     "output_type": "execute_result"
    }
   ],
   "source": [
    "\n",
    "# function to calculate cubes of  all numbers in a list\n",
    "\n",
    "\n",
    "li = [1,2,3,4,5,6]\n",
    "def cube(n):\n",
    "    return n ** 3\n",
    "\n",
    "\n",
    "sum(list(map(cube, li)))\n"
   ]
  },
  {
   "cell_type": "code",
   "execution_count": 119,
   "metadata": {},
   "outputs": [
    {
     "data": {
      "text/plain": [
       "441"
      ]
     },
     "execution_count": 119,
     "metadata": {},
     "output_type": "execute_result"
    }
   ],
   "source": [
    "\n",
    "# function to calculate cubes of  all numbers in a list\n",
    "\n",
    "\n",
    "li = [1,2,3,4,5,6]\n",
    "def cube(n):\n",
    "    return n ** 3\n",
    "\n",
    "for i in li:\n",
    "    cube(i)\n",
    "\n",
    "sum([cube(i) for i in li])\n",
    "    \n",
    "sum(list(map(cube, li)))\n"
   ]
  },
  {
   "cell_type": "code",
   "execution_count": null,
   "metadata": {},
   "outputs": [],
   "source": []
  },
  {
   "cell_type": "code",
   "execution_count": null,
   "metadata": {},
   "outputs": [],
   "source": []
  }
 ],
 "metadata": {
  "kernelspec": {
   "display_name": "Python 3",
   "language": "python",
   "name": "python3"
  },
  "language_info": {
   "codemirror_mode": {
    "name": "ipython",
    "version": 3
   },
   "file_extension": ".py",
   "mimetype": "text/x-python",
   "name": "python",
   "nbconvert_exporter": "python",
   "pygments_lexer": "ipython3",
   "version": "3.7.3"
  }
 },
 "nbformat": 4,
 "nbformat_minor": 2
}
