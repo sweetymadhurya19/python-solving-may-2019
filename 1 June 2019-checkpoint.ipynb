{
 "cells": [
  {
   "cell_type": "markdown",
   "metadata": {},
   "source": [
    "#### day objectives\n",
    "* packages and modules in python\n",
    "* turtle graphics\n",
    "* file handlimg\n",
    "* python libaries for data processing, anayalsis, visualization and machine learning\n",
    "    * numpy - aray processing\n",
    "    * pandas - data analysis\n",
    "    * matplotlib - data  visualization\n",
    "    * scikit-learn - machine learning\n"
   ]
  },
  {
   "cell_type": "code",
   "execution_count": null,
   "metadata": {},
   "outputs": [],
   "source": []
  }
 ],
 "metadata": {
  "kernelspec": {
   "display_name": "Python 3",
   "language": "python",
   "name": "python3"
  },
  "language_info": {
   "codemirror_mode": {
    "name": "ipython",
    "version": 3
   },
   "file_extension": ".py",
   "mimetype": "text/x-python",
   "name": "python",
   "nbconvert_exporter": "python",
   "pygments_lexer": "ipython3",
   "version": "3.7.3"
  }
 },
 "nbformat": 4,
 "nbformat_minor": 2
}
